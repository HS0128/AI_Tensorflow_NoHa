{
 "cells": [
  {
   "cell_type": "code",
   "execution_count": 5,
   "metadata": {
    "collapsed": false
   },
   "outputs": [],
   "source": [
    "import numpy as np\n",
    "\n",
    "names = np.array([\"김철수\", \"이승호\", \"박철호\"])\n",
    "data = np.random.randn(7,4)"
   ]
  },
  {
   "cell_type": "code",
   "execution_count": 6,
   "metadata": {
    "collapsed": false
   },
   "outputs": [
    {
     "data": {
      "text/plain": [
       "array(['김철수', '이승호', '박철호'], \n",
       "      dtype='<U3')"
      ]
     },
     "execution_count": 6,
     "metadata": {},
     "output_type": "execute_result"
    }
   ],
   "source": [
    "names"
   ]
  },
  {
   "cell_type": "code",
   "execution_count": 8,
   "metadata": {
    "collapsed": false
   },
   "outputs": [
    {
     "data": {
      "text/plain": [
       "array([[-1.0492822 , -0.13833254, -1.89970661, -1.08012837],\n",
       "       [-1.71100436, -0.44700007,  0.03544745, -0.29277474],\n",
       "       [-0.90096416,  0.15821687, -1.63353438, -0.17820864],\n",
       "       [-1.10366643,  0.3031949 , -0.17180198,  0.52570911],\n",
       "       [-1.56845576, -2.7153499 , -0.17254334,  0.76256813],\n",
       "       [-1.28506273, -0.59942932, -0.49532566, -2.15008891],\n",
       "       [ 0.67012597,  0.4685395 ,  0.36352028, -0.07711242]])"
      ]
     },
     "execution_count": 8,
     "metadata": {},
     "output_type": "execute_result"
    }
   ],
   "source": [
    "data"
   ]
  },
  {
   "cell_type": "code",
   "execution_count": 9,
   "metadata": {
    "collapsed": true
   },
   "outputs": [],
   "source": [
    "x = np.random.randn(8)"
   ]
  },
  {
   "cell_type": "code",
   "execution_count": 10,
   "metadata": {
    "collapsed": false
   },
   "outputs": [
    {
     "data": {
      "text/plain": [
       "array([ 0.91650181,  0.98729638, -0.97955889,  1.88879945,  1.28773615,\n",
       "        1.52687262,  0.92917762,  0.74500037])"
      ]
     },
     "execution_count": 10,
     "metadata": {},
     "output_type": "execute_result"
    }
   ],
   "source": [
    "y = np.random.randn(8)\n",
    "x"
   ]
  },
  {
   "cell_type": "code",
   "execution_count": 11,
   "metadata": {
    "collapsed": false
   },
   "outputs": [
    {
     "data": {
      "text/plain": [
       "array([ 0.91650181,  0.98729638, -0.0764594 ,  1.88879945,  1.28773615,\n",
       "        1.52687262,  0.92917762,  0.74500037])"
      ]
     },
     "execution_count": 11,
     "metadata": {},
     "output_type": "execute_result"
    }
   ],
   "source": [
    "np.maximum(x,y)"
   ]
  },
  {
   "cell_type": "code",
   "execution_count": 12,
   "metadata": {
    "collapsed": true
   },
   "outputs": [],
   "source": [
    "arr = np.random.randn(5,4)"
   ]
  },
  {
   "cell_type": "code",
   "execution_count": 13,
   "metadata": {
    "collapsed": false
   },
   "outputs": [
    {
     "data": {
      "text/plain": [
       "array([[-0.91365892,  0.28017877, -0.15625716,  2.1122553 ],\n",
       "       [-0.07779372,  0.27662953, -1.41554771,  0.95943715],\n",
       "       [-0.24880781,  1.29225291, -0.00863753,  0.72002531],\n",
       "       [ 0.20149297,  1.40034986, -0.83844718,  1.10920504],\n",
       "       [ 0.47040891, -1.33251989, -1.81886961,  1.57301402]])"
      ]
     },
     "execution_count": 13,
     "metadata": {},
     "output_type": "execute_result"
    }
   ],
   "source": [
    "arr"
   ]
  },
  {
   "cell_type": "code",
   "execution_count": 14,
   "metadata": {
    "collapsed": false
   },
   "outputs": [
    {
     "data": {
      "text/plain": [
       "3.5847102577361012"
      ]
     },
     "execution_count": 14,
     "metadata": {},
     "output_type": "execute_result"
    }
   ],
   "source": [
    "arr.sum()"
   ]
  },
  {
   "cell_type": "code",
   "execution_count": 15,
   "metadata": {
    "collapsed": false
   },
   "outputs": [
    {
     "data": {
      "text/plain": [
       "0.17923551288680506"
      ]
     },
     "execution_count": 15,
     "metadata": {},
     "output_type": "execute_result"
    }
   ],
   "source": [
    "arr.mean()"
   ]
  },
  {
   "cell_type": "code",
   "execution_count": 16,
   "metadata": {
    "collapsed": false
   },
   "outputs": [
    {
     "data": {
      "text/plain": [
       "array([-0.56835857,  1.91689118, -4.23775918,  6.47393683])"
      ]
     },
     "execution_count": 16,
     "metadata": {},
     "output_type": "execute_result"
    }
   ],
   "source": [
    "arr.sum(axis=0)"
   ]
  },
  {
   "cell_type": "code",
   "execution_count": 17,
   "metadata": {
    "collapsed": false
   },
   "outputs": [
    {
     "data": {
      "text/plain": [
       "array([ 1.322518  , -0.25727475,  1.75483288,  1.87260069, -1.10796656])"
      ]
     },
     "execution_count": 17,
     "metadata": {},
     "output_type": "execute_result"
    }
   ],
   "source": [
    "arr.sum(axis=1)"
   ]
  },
  {
   "cell_type": "code",
   "execution_count": 18,
   "metadata": {
    "collapsed": false
   },
   "outputs": [
    {
     "data": {
      "text/plain": [
       "array([[-0.91365892, -0.15625716,  0.28017877,  2.1122553 ],\n",
       "       [-1.41554771, -0.07779372,  0.27662953,  0.95943715],\n",
       "       [-0.24880781, -0.00863753,  0.72002531,  1.29225291],\n",
       "       [-0.83844718,  0.20149297,  1.10920504,  1.40034986],\n",
       "       [-1.81886961, -1.33251989,  0.47040891,  1.57301402]])"
      ]
     },
     "execution_count": 18,
     "metadata": {},
     "output_type": "execute_result"
    }
   ],
   "source": [
    "np.sort(arr)"
   ]
  },
  {
   "cell_type": "code",
   "execution_count": 19,
   "metadata": {
    "collapsed": false
   },
   "outputs": [
    {
     "data": {
      "text/plain": [
       "array([[ 0.47040891,  1.40034986, -0.00863753,  2.1122553 ],\n",
       "       [ 0.20149297,  1.29225291, -0.15625716,  1.57301402],\n",
       "       [-0.07779372,  0.28017877, -0.83844718,  1.10920504],\n",
       "       [-0.24880781,  0.27662953, -1.41554771,  0.95943715],\n",
       "       [-0.91365892, -1.33251989, -1.81886961,  0.72002531]])"
      ]
     },
     "execution_count": 19,
     "metadata": {},
     "output_type": "execute_result"
    }
   ],
   "source": [
    "np.sort(arr,axis=0)[::-1]"
   ]
  },
  {
   "cell_type": "code",
   "execution_count": 24,
   "metadata": {
    "collapsed": false
   },
   "outputs": [
    {
     "name": "stdout",
     "output_type": "stream",
     "text": [
      "['김철수' '박철호' '이승호']\n",
      "3\n"
     ]
    }
   ],
   "source": [
    "names = np.array([\"김철수\", \"이승호\", \"박철호\", \"박철호\"])\n",
    "ages = np.array([20,25,28, 20])\n",
    "print(np.unique(names))\n",
    "print(len(np.unique(names)))"
   ]
  },
  {
   "cell_type": "code",
   "execution_count": 25,
   "metadata": {
    "collapsed": false
   },
   "outputs": [
    {
     "name": "stdout",
     "output_type": "stream",
     "text": [
      "[20 25 28]\n"
     ]
    }
   ],
   "source": [
    "print(np.unique(ages))"
   ]
  },
  {
   "cell_type": "code",
   "execution_count": null,
   "metadata": {
    "collapsed": true
   },
   "outputs": [],
   "source": []
  }
 ],
 "metadata": {
  "anaconda-cloud": {},
  "kernelspec": {
   "display_name": "Python [conda root]",
   "language": "python",
   "name": "conda-root-py"
  },
  "language_info": {
   "codemirror_mode": {
    "name": "ipython",
    "version": 3
   },
   "file_extension": ".py",
   "mimetype": "text/x-python",
   "name": "python",
   "nbconvert_exporter": "python",
   "pygments_lexer": "ipython3",
   "version": "3.5.2"
  }
 },
 "nbformat": 4,
 "nbformat_minor": 1
}
